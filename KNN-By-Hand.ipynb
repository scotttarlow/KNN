{
 "cells": [
  {
   "cell_type": "code",
   "execution_count": 1,
   "metadata": {
    "collapsed": true
   },
   "outputs": [],
   "source": [
    "from sklearn import datasets\n",
    "from sklearn.model_selection import StratifiedShuffleSplit\n",
    "import random\n",
    "import numpy as np"
   ]
  },
  {
   "cell_type": "code",
   "execution_count": 2,
   "metadata": {
    "collapsed": false
   },
   "outputs": [],
   "source": [
    "iris = datasets.load_iris()\n",
    "X  = iris.data\n",
    "Y = iris.target\n",
    "random.seed(a=0)\n",
    "rand_sample = random.sample(range(0, 149), 30)\n",
    "rand_dimension = []\n",
    "for sample in rand_sample:\n",
    "    rand_dimension.append(random.sample(range(0,3),1))\n",
    "for sample, dimension in zip(rand_sample,rand_dimension):\n",
    "    X[sample][dimension] = np.nan\n",
    "sss  = StratifiedShuffleSplit(n_splits=3,test_size=0.33, random_state =0)\n",
    "for train_index, test_index in sss.split(X,Y):\n",
    "    x_train,x_test = X[train_index], X[test_index]\n",
    "    y_train,y_test = Y[train_index], Y[test_index]"
   ]
  },
  {
   "cell_type": "code",
   "execution_count": 3,
   "metadata": {
    "collapsed": false
   },
   "outputs": [],
   "source": [
    "#deal with nans\n",
    "x_train = np.nan_to_num(x_train)\n",
    "x_test = np.nan_to_num(x_test)"
   ]
  },
  {
   "cell_type": "code",
   "execution_count": 4,
   "metadata": {
    "collapsed": false
   },
   "outputs": [],
   "source": [
    "class KNN(object):\n",
    "    '''\n",
    "    This is is a K-Nearest-Neighbor Classifier(KNN) written by hand.\n",
    "    It only depends on numpy. \n",
    "    This will be simple KNN algo that weights the classification \n",
    "    by euclidiean distiance \n",
    "    \n",
    "    METHODS\n",
    "    Initializer: requires k, which is how many neighbors to use in the classification\n",
    "    train: stores training data (training the model)\n",
    "    predict: makes a prediction for a data point\n",
    "    \n",
    "    '''\n",
    "    def __init__(self,k):\n",
    "    # k = number of neighbours \n",
    "    # train_ = training set\n",
    "    # predictions = predictions of classification \n",
    "        self.k = k\n",
    "        self.train_data = 0\n",
    "        self.predictions = []\n",
    "        \n",
    "    def train(self,x_data,y_data):\n",
    "    # this trains the KNN model\n",
    "    # training for KNN is just storing the training data\n",
    "        self.train_data = [x_data,y_data]\n",
    "    \n",
    "    def predict(self,test_data):\n",
    "        for vect in test_data:\n",
    "            distance = np.linalg.norm(self.train_data[0] - vect,axis=1)\n",
    "            \n",
    "            #this is a sorting algo so I can keep the labels and the features together\n",
    "            distance_target = np.rec.fromarrays([distance, self.train_data[1]])\n",
    "            distance_target.sort()\n",
    "            \n",
    "            #take the k nearest\n",
    "            k_distances = distance_target.f0[0:self.k]\n",
    "            k_labels = distance_target.f1[0:self.k]\n",
    "            \n",
    "            #distance algo\n",
    "            total_dist = np.sum(k_distances)\n",
    "            k_dist_weight = np.divide(k_distances,float(total_dist))\n",
    "            unique_labels = np.unique(k_labels)\n",
    "            label_dict = {i:0 for i in unique_labels}\n",
    "            label_dict_count = {i:0 for i in unique_labels}\n",
    "            \n",
    "            #add up the total distance away for each label, find average distance of each label type\n",
    "            #and select the label with the smallest average distance\n",
    "            for label,weight in zip(k_labels,k_dist_weight):\n",
    "                label_dict[label] += weight\n",
    "                label_dict_count[label] +=1\n",
    "            for label in label_dict:\n",
    "                label_dict[label] = label_dict[label]/float(label_dict_count[label])\n",
    "            labels = label_dict.keys()\n",
    "            values = label_dict.values()\n",
    "            labels_values = np.rec.fromarrays([values,labels])\n",
    "            labels_values.sort()\n",
    "            \n",
    "            #predict the lowest overall distance\n",
    "            self.predictions.append(labels_values.f1[0])            "
   ]
  },
  {
   "cell_type": "code",
   "execution_count": 5,
   "metadata": {
    "collapsed": false
   },
   "outputs": [],
   "source": [
    "KNN = KNN(5)"
   ]
  },
  {
   "cell_type": "code",
   "execution_count": 6,
   "metadata": {
    "collapsed": false
   },
   "outputs": [],
   "source": [
    "KNN.train(x_train,y_train)"
   ]
  },
  {
   "cell_type": "code",
   "execution_count": 7,
   "metadata": {
    "collapsed": false
   },
   "outputs": [],
   "source": [
    "KNN.predict(x_test)"
   ]
  },
  {
   "cell_type": "code",
   "execution_count": 8,
   "metadata": {
    "collapsed": false
   },
   "outputs": [
    {
     "data": {
      "text/plain": [
       "0.92000000000000004"
      ]
     },
     "execution_count": 8,
     "metadata": {},
     "output_type": "execute_result"
    }
   ],
   "source": [
    "#accuracy\n",
    "sum(y_test == KNN.predictions)/float(len(y_test))"
   ]
  }
 ],
 "metadata": {
  "kernelspec": {
   "display_name": "Python [default]",
   "language": "python",
   "name": "python2"
  },
  "language_info": {
   "codemirror_mode": {
    "name": "ipython",
    "version": 2
   },
   "file_extension": ".py",
   "mimetype": "text/x-python",
   "name": "python",
   "nbconvert_exporter": "python",
   "pygments_lexer": "ipython2",
   "version": "2.7.13"
  }
 },
 "nbformat": 4,
 "nbformat_minor": 2
}
